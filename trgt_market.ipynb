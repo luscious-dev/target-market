{
 "cells": [
  {
   "cell_type": "markdown",
   "id": "39b421a3",
   "metadata": {},
   "source": [
    "## Targeted Marketing"
   ]
  },
  {
   "cell_type": "markdown",
   "id": "f8bb274d",
   "metadata": {},
   "source": [
    "\n",
    "The data is inspired from Kaggle `\"Uplift Modeling, Marketing and Campaign Data\"` provided by AI lab of Criteo (The Criteo AI Lab is pioneering innovations in computational advertising it operates within the spectrum of two main areas: ML Engineering and ML Research) The dataset has 13M rows, each row gives information about 12 features of a user, 4 binary labels (1, 0) visits, conversions, treatment, exposure.\n"
   ]
  },
  {
   "cell_type": "markdown",
   "id": "da121814",
   "metadata": {},
   "source": [
    "### Importing core libraries"
   ]
  },
  {
   "cell_type": "code",
   "execution_count": 1,
   "id": "fea9e73f",
   "metadata": {},
   "outputs": [],
   "source": [
    "import numpy as np\n",
    "import pandas as pd\n",
    "import matplotlib.pyplot as plt\n",
    "import seaborn as sns"
   ]
  },
  {
   "cell_type": "code",
   "execution_count": 2,
   "id": "5945a5c7",
   "metadata": {},
   "outputs": [],
   "source": [
    "import random"
   ]
  },
  {
   "cell_type": "markdown",
   "id": "00d6c0d6",
   "metadata": {},
   "source": [
    "### Loading datasets"
   ]
  },
  {
   "cell_type": "markdown",
   "id": "b6431c7a",
   "metadata": {},
   "source": [
    "Link to dataset [Targeted Marketing](https://www.kaggle.com/datasets/aminghias/targeted-marketing)"
   ]
  },
  {
   "cell_type": "code",
   "execution_count": 3,
   "id": "f84420ad",
   "metadata": {},
   "outputs": [],
   "source": [
    "df = pd.read_csv('./df_classes.csv')"
   ]
  },
  {
   "cell_type": "code",
   "execution_count": 4,
   "id": "d724f23d",
   "metadata": {
    "scrolled": false
   },
   "outputs": [
    {
     "data": {
      "text/plain": [
       "Index(['f0', 'f1', 'f2', 'f3', 'f4', 'f5', 'f6', 'f7', 'f8', 'f9', 'f10',\n",
       "       'f11', 'treatment', 'conversion', 'visit', 'exposure', 'class'],\n",
       "      dtype='object')"
      ]
     },
     "execution_count": 4,
     "metadata": {},
     "output_type": "execute_result"
    }
   ],
   "source": [
    "df.columns"
   ]
  },
  {
   "cell_type": "code",
   "execution_count": 5,
   "id": "ce47849d",
   "metadata": {},
   "outputs": [
    {
     "data": {
      "text/plain": [
       "(13979592, 17)"
      ]
     },
     "execution_count": 5,
     "metadata": {},
     "output_type": "execute_result"
    }
   ],
   "source": [
    "df.shape"
   ]
  },
  {
   "cell_type": "markdown",
   "id": "5a056527",
   "metadata": {},
   "source": [
    "The data has over `13 million` rows, which is more than my PC can handle. I'll reduce it down to `10,000`"
   ]
  },
  {
   "cell_type": "code",
   "execution_count": 6,
   "id": "e39dfc79",
   "metadata": {},
   "outputs": [],
   "source": [
    "sub_ind = random.sample(list(df.index), 10000)"
   ]
  },
  {
   "cell_type": "code",
   "execution_count": 7,
   "id": "dd4bd62c",
   "metadata": {
    "scrolled": true
   },
   "outputs": [],
   "source": [
    "df_small = df.iloc[sub_ind]"
   ]
  },
  {
   "cell_type": "code",
   "execution_count": 8,
   "id": "261befcb",
   "metadata": {},
   "outputs": [
    {
     "data": {
      "text/html": [
       "<div>\n",
       "<style scoped>\n",
       "    .dataframe tbody tr th:only-of-type {\n",
       "        vertical-align: middle;\n",
       "    }\n",
       "\n",
       "    .dataframe tbody tr th {\n",
       "        vertical-align: top;\n",
       "    }\n",
       "\n",
       "    .dataframe thead th {\n",
       "        text-align: right;\n",
       "    }\n",
       "</style>\n",
       "<table border=\"1\" class=\"dataframe\">\n",
       "  <thead>\n",
       "    <tr style=\"text-align: right;\">\n",
       "      <th></th>\n",
       "      <th>f0</th>\n",
       "      <th>f1</th>\n",
       "      <th>f2</th>\n",
       "      <th>f3</th>\n",
       "      <th>f4</th>\n",
       "      <th>f5</th>\n",
       "      <th>f6</th>\n",
       "      <th>f7</th>\n",
       "      <th>f8</th>\n",
       "      <th>f9</th>\n",
       "      <th>f10</th>\n",
       "      <th>f11</th>\n",
       "      <th>treatment</th>\n",
       "      <th>conversion</th>\n",
       "      <th>visit</th>\n",
       "      <th>exposure</th>\n",
       "      <th>class</th>\n",
       "    </tr>\n",
       "  </thead>\n",
       "  <tbody>\n",
       "    <tr>\n",
       "      <th>5815506</th>\n",
       "      <td>21.301181</td>\n",
       "      <td>10.059654</td>\n",
       "      <td>9.018052</td>\n",
       "      <td>4.679882</td>\n",
       "      <td>10.280525</td>\n",
       "      <td>4.115453</td>\n",
       "      <td>-12.915828</td>\n",
       "      <td>4.833815</td>\n",
       "      <td>3.955396</td>\n",
       "      <td>13.190056</td>\n",
       "      <td>5.300375</td>\n",
       "      <td>-0.168679</td>\n",
       "      <td>1</td>\n",
       "      <td>0</td>\n",
       "      <td>0</td>\n",
       "      <td>0</td>\n",
       "      <td>Lost Cause</td>\n",
       "    </tr>\n",
       "    <tr>\n",
       "      <th>12514623</th>\n",
       "      <td>23.685638</td>\n",
       "      <td>10.059654</td>\n",
       "      <td>8.871956</td>\n",
       "      <td>4.679882</td>\n",
       "      <td>10.280525</td>\n",
       "      <td>4.115453</td>\n",
       "      <td>-3.993764</td>\n",
       "      <td>4.833815</td>\n",
       "      <td>3.943716</td>\n",
       "      <td>13.190056</td>\n",
       "      <td>5.300375</td>\n",
       "      <td>-0.168679</td>\n",
       "      <td>0</td>\n",
       "      <td>0</td>\n",
       "      <td>0</td>\n",
       "      <td>0</td>\n",
       "      <td>Lost Cause</td>\n",
       "    </tr>\n",
       "    <tr>\n",
       "      <th>3184520</th>\n",
       "      <td>24.000460</td>\n",
       "      <td>10.059654</td>\n",
       "      <td>8.214383</td>\n",
       "      <td>4.679882</td>\n",
       "      <td>10.280525</td>\n",
       "      <td>4.115453</td>\n",
       "      <td>-9.864621</td>\n",
       "      <td>4.833815</td>\n",
       "      <td>3.971858</td>\n",
       "      <td>13.190056</td>\n",
       "      <td>5.300375</td>\n",
       "      <td>-0.168679</td>\n",
       "      <td>1</td>\n",
       "      <td>0</td>\n",
       "      <td>0</td>\n",
       "      <td>0</td>\n",
       "      <td>Lost Cause</td>\n",
       "    </tr>\n",
       "    <tr>\n",
       "      <th>8899126</th>\n",
       "      <td>22.827105</td>\n",
       "      <td>10.059654</td>\n",
       "      <td>8.983373</td>\n",
       "      <td>4.679882</td>\n",
       "      <td>10.280525</td>\n",
       "      <td>4.115453</td>\n",
       "      <td>-6.359690</td>\n",
       "      <td>4.833815</td>\n",
       "      <td>3.934656</td>\n",
       "      <td>13.190056</td>\n",
       "      <td>5.300375</td>\n",
       "      <td>-0.168679</td>\n",
       "      <td>1</td>\n",
       "      <td>0</td>\n",
       "      <td>0</td>\n",
       "      <td>0</td>\n",
       "      <td>Lost Cause</td>\n",
       "    </tr>\n",
       "    <tr>\n",
       "      <th>7293552</th>\n",
       "      <td>13.792846</td>\n",
       "      <td>10.059654</td>\n",
       "      <td>8.214383</td>\n",
       "      <td>2.039645</td>\n",
       "      <td>10.280525</td>\n",
       "      <td>4.115453</td>\n",
       "      <td>-5.116672</td>\n",
       "      <td>4.833815</td>\n",
       "      <td>3.971858</td>\n",
       "      <td>13.190056</td>\n",
       "      <td>5.300375</td>\n",
       "      <td>-0.168679</td>\n",
       "      <td>1</td>\n",
       "      <td>0</td>\n",
       "      <td>0</td>\n",
       "      <td>0</td>\n",
       "      <td>Lost Cause</td>\n",
       "    </tr>\n",
       "  </tbody>\n",
       "</table>\n",
       "</div>"
      ],
      "text/plain": [
       "                 f0         f1        f2        f3         f4        f5  \\\n",
       "5815506   21.301181  10.059654  9.018052  4.679882  10.280525  4.115453   \n",
       "12514623  23.685638  10.059654  8.871956  4.679882  10.280525  4.115453   \n",
       "3184520   24.000460  10.059654  8.214383  4.679882  10.280525  4.115453   \n",
       "8899126   22.827105  10.059654  8.983373  4.679882  10.280525  4.115453   \n",
       "7293552   13.792846  10.059654  8.214383  2.039645  10.280525  4.115453   \n",
       "\n",
       "                 f6        f7        f8         f9       f10       f11  \\\n",
       "5815506  -12.915828  4.833815  3.955396  13.190056  5.300375 -0.168679   \n",
       "12514623  -3.993764  4.833815  3.943716  13.190056  5.300375 -0.168679   \n",
       "3184520   -9.864621  4.833815  3.971858  13.190056  5.300375 -0.168679   \n",
       "8899126   -6.359690  4.833815  3.934656  13.190056  5.300375 -0.168679   \n",
       "7293552   -5.116672  4.833815  3.971858  13.190056  5.300375 -0.168679   \n",
       "\n",
       "          treatment  conversion  visit  exposure       class  \n",
       "5815506           1           0      0         0  Lost Cause  \n",
       "12514623          0           0      0         0  Lost Cause  \n",
       "3184520           1           0      0         0  Lost Cause  \n",
       "8899126           1           0      0         0  Lost Cause  \n",
       "7293552           1           0      0         0  Lost Cause  "
      ]
     },
     "execution_count": 8,
     "metadata": {},
     "output_type": "execute_result"
    }
   ],
   "source": [
    "df_small.head()"
   ]
  },
  {
   "cell_type": "code",
   "execution_count": 9,
   "id": "a89e0dbd",
   "metadata": {},
   "outputs": [],
   "source": [
    "df_small.reset_index(inplace=True)"
   ]
  },
  {
   "cell_type": "markdown",
   "id": "0d122c2d",
   "metadata": {},
   "source": [
    "### Scanning for null values"
   ]
  },
  {
   "cell_type": "code",
   "execution_count": 10,
   "id": "5cdcaa54",
   "metadata": {},
   "outputs": [
    {
     "data": {
      "text/plain": [
       "index         0\n",
       "f0            0\n",
       "f1            0\n",
       "f2            0\n",
       "f3            0\n",
       "f4            0\n",
       "f5            0\n",
       "f6            0\n",
       "f7            0\n",
       "f8            0\n",
       "f9            0\n",
       "f10           0\n",
       "f11           0\n",
       "treatment     0\n",
       "conversion    0\n",
       "visit         0\n",
       "exposure      0\n",
       "class         0\n",
       "dtype: int64"
      ]
     },
     "execution_count": 10,
     "metadata": {},
     "output_type": "execute_result"
    }
   ],
   "source": [
    "df_small.isna().sum()"
   ]
  },
  {
   "cell_type": "code",
   "execution_count": 11,
   "id": "c1d0915a",
   "metadata": {
    "scrolled": true
   },
   "outputs": [
    {
     "data": {
      "text/plain": [
       "Lost Cause      9469\n",
       "Persuadables     326\n",
       "Dont Disturb     105\n",
       "Sure Thing       100\n",
       "Name: class, dtype: int64"
      ]
     },
     "execution_count": 11,
     "metadata": {},
     "output_type": "execute_result"
    }
   ],
   "source": [
    "# Distribution of customer classes from subset\n",
    "df_small['class'].value_counts()"
   ]
  },
  {
   "cell_type": "code",
   "execution_count": 12,
   "id": "5f219d00",
   "metadata": {},
   "outputs": [
    {
     "data": {
      "text/plain": [
       "Lost Cause      13252906\n",
       "Persuadables      440543\n",
       "Dont Disturb      149862\n",
       "Sure Thing        136281\n",
       "Name: class, dtype: int64"
      ]
     },
     "execution_count": 12,
     "metadata": {},
     "output_type": "execute_result"
    }
   ],
   "source": [
    "# Distribution of customer classes from source data\n",
    "df['class'].value_counts()"
   ]
  },
  {
   "cell_type": "markdown",
   "id": "5d026c53",
   "metadata": {},
   "source": [
    "The distribution of the data seems to be similar"
   ]
  },
  {
   "cell_type": "code",
   "execution_count": 13,
   "id": "305da6f2",
   "metadata": {},
   "outputs": [
    {
     "data": {
      "text/html": [
       "<div>\n",
       "<style scoped>\n",
       "    .dataframe tbody tr th:only-of-type {\n",
       "        vertical-align: middle;\n",
       "    }\n",
       "\n",
       "    .dataframe tbody tr th {\n",
       "        vertical-align: top;\n",
       "    }\n",
       "\n",
       "    .dataframe thead th {\n",
       "        text-align: right;\n",
       "    }\n",
       "</style>\n",
       "<table border=\"1\" class=\"dataframe\">\n",
       "  <thead>\n",
       "    <tr style=\"text-align: right;\">\n",
       "      <th></th>\n",
       "      <th>index</th>\n",
       "      <th>f0</th>\n",
       "      <th>f1</th>\n",
       "      <th>f2</th>\n",
       "      <th>f3</th>\n",
       "      <th>f4</th>\n",
       "      <th>f5</th>\n",
       "      <th>f6</th>\n",
       "      <th>f7</th>\n",
       "      <th>f8</th>\n",
       "      <th>f9</th>\n",
       "      <th>f10</th>\n",
       "      <th>f11</th>\n",
       "      <th>treatment</th>\n",
       "      <th>conversion</th>\n",
       "      <th>visit</th>\n",
       "      <th>exposure</th>\n",
       "      <th>class</th>\n",
       "    </tr>\n",
       "  </thead>\n",
       "  <tbody>\n",
       "    <tr>\n",
       "      <th>0</th>\n",
       "      <td>5815506</td>\n",
       "      <td>21.301181</td>\n",
       "      <td>10.059654</td>\n",
       "      <td>9.018052</td>\n",
       "      <td>4.679882</td>\n",
       "      <td>10.280525</td>\n",
       "      <td>4.115453</td>\n",
       "      <td>-12.915828</td>\n",
       "      <td>4.833815</td>\n",
       "      <td>3.955396</td>\n",
       "      <td>13.190056</td>\n",
       "      <td>5.300375</td>\n",
       "      <td>-0.168679</td>\n",
       "      <td>1</td>\n",
       "      <td>0</td>\n",
       "      <td>0</td>\n",
       "      <td>0</td>\n",
       "      <td>Lost Cause</td>\n",
       "    </tr>\n",
       "    <tr>\n",
       "      <th>1</th>\n",
       "      <td>12514623</td>\n",
       "      <td>23.685638</td>\n",
       "      <td>10.059654</td>\n",
       "      <td>8.871956</td>\n",
       "      <td>4.679882</td>\n",
       "      <td>10.280525</td>\n",
       "      <td>4.115453</td>\n",
       "      <td>-3.993764</td>\n",
       "      <td>4.833815</td>\n",
       "      <td>3.943716</td>\n",
       "      <td>13.190056</td>\n",
       "      <td>5.300375</td>\n",
       "      <td>-0.168679</td>\n",
       "      <td>0</td>\n",
       "      <td>0</td>\n",
       "      <td>0</td>\n",
       "      <td>0</td>\n",
       "      <td>Lost Cause</td>\n",
       "    </tr>\n",
       "    <tr>\n",
       "      <th>2</th>\n",
       "      <td>3184520</td>\n",
       "      <td>24.000460</td>\n",
       "      <td>10.059654</td>\n",
       "      <td>8.214383</td>\n",
       "      <td>4.679882</td>\n",
       "      <td>10.280525</td>\n",
       "      <td>4.115453</td>\n",
       "      <td>-9.864621</td>\n",
       "      <td>4.833815</td>\n",
       "      <td>3.971858</td>\n",
       "      <td>13.190056</td>\n",
       "      <td>5.300375</td>\n",
       "      <td>-0.168679</td>\n",
       "      <td>1</td>\n",
       "      <td>0</td>\n",
       "      <td>0</td>\n",
       "      <td>0</td>\n",
       "      <td>Lost Cause</td>\n",
       "    </tr>\n",
       "    <tr>\n",
       "      <th>3</th>\n",
       "      <td>8899126</td>\n",
       "      <td>22.827105</td>\n",
       "      <td>10.059654</td>\n",
       "      <td>8.983373</td>\n",
       "      <td>4.679882</td>\n",
       "      <td>10.280525</td>\n",
       "      <td>4.115453</td>\n",
       "      <td>-6.359690</td>\n",
       "      <td>4.833815</td>\n",
       "      <td>3.934656</td>\n",
       "      <td>13.190056</td>\n",
       "      <td>5.300375</td>\n",
       "      <td>-0.168679</td>\n",
       "      <td>1</td>\n",
       "      <td>0</td>\n",
       "      <td>0</td>\n",
       "      <td>0</td>\n",
       "      <td>Lost Cause</td>\n",
       "    </tr>\n",
       "    <tr>\n",
       "      <th>4</th>\n",
       "      <td>7293552</td>\n",
       "      <td>13.792846</td>\n",
       "      <td>10.059654</td>\n",
       "      <td>8.214383</td>\n",
       "      <td>2.039645</td>\n",
       "      <td>10.280525</td>\n",
       "      <td>4.115453</td>\n",
       "      <td>-5.116672</td>\n",
       "      <td>4.833815</td>\n",
       "      <td>3.971858</td>\n",
       "      <td>13.190056</td>\n",
       "      <td>5.300375</td>\n",
       "      <td>-0.168679</td>\n",
       "      <td>1</td>\n",
       "      <td>0</td>\n",
       "      <td>0</td>\n",
       "      <td>0</td>\n",
       "      <td>Lost Cause</td>\n",
       "    </tr>\n",
       "  </tbody>\n",
       "</table>\n",
       "</div>"
      ],
      "text/plain": [
       "      index         f0         f1        f2        f3         f4        f5  \\\n",
       "0   5815506  21.301181  10.059654  9.018052  4.679882  10.280525  4.115453   \n",
       "1  12514623  23.685638  10.059654  8.871956  4.679882  10.280525  4.115453   \n",
       "2   3184520  24.000460  10.059654  8.214383  4.679882  10.280525  4.115453   \n",
       "3   8899126  22.827105  10.059654  8.983373  4.679882  10.280525  4.115453   \n",
       "4   7293552  13.792846  10.059654  8.214383  2.039645  10.280525  4.115453   \n",
       "\n",
       "          f6        f7        f8         f9       f10       f11  treatment  \\\n",
       "0 -12.915828  4.833815  3.955396  13.190056  5.300375 -0.168679          1   \n",
       "1  -3.993764  4.833815  3.943716  13.190056  5.300375 -0.168679          0   \n",
       "2  -9.864621  4.833815  3.971858  13.190056  5.300375 -0.168679          1   \n",
       "3  -6.359690  4.833815  3.934656  13.190056  5.300375 -0.168679          1   \n",
       "4  -5.116672  4.833815  3.971858  13.190056  5.300375 -0.168679          1   \n",
       "\n",
       "   conversion  visit  exposure       class  \n",
       "0           0      0         0  Lost Cause  \n",
       "1           0      0         0  Lost Cause  \n",
       "2           0      0         0  Lost Cause  \n",
       "3           0      0         0  Lost Cause  \n",
       "4           0      0         0  Lost Cause  "
      ]
     },
     "execution_count": 13,
     "metadata": {},
     "output_type": "execute_result"
    }
   ],
   "source": [
    "df_small.head()"
   ]
  },
  {
   "cell_type": "code",
   "execution_count": 14,
   "id": "04718a2a",
   "metadata": {},
   "outputs": [
    {
     "name": "stderr",
     "output_type": "stream",
     "text": [
      "C:\\Users\\Dell 5480\\AppData\\Local\\Temp\\ipykernel_12136\\3756180643.py:1: SettingWithCopyWarning: \n",
      "A value is trying to be set on a copy of a slice from a DataFrame\n",
      "\n",
      "See the caveats in the documentation: https://pandas.pydata.org/pandas-docs/stable/user_guide/indexing.html#returning-a-view-versus-a-copy\n",
      "  df_small.drop('index', axis=1, inplace=True)\n"
     ]
    }
   ],
   "source": [
    "df_small.drop('index', axis=1, inplace=True)"
   ]
  },
  {
   "cell_type": "markdown",
   "id": "8a38e64c",
   "metadata": {},
   "source": [
    "The features of the dataset have values with varying range. It's best I scale them"
   ]
  },
  {
   "cell_type": "code",
   "execution_count": 15,
   "id": "0f7b72fb",
   "metadata": {},
   "outputs": [],
   "source": [
    "from sklearn.preprocessing import MinMaxScaler"
   ]
  },
  {
   "cell_type": "code",
   "execution_count": 16,
   "id": "2f05df13",
   "metadata": {},
   "outputs": [],
   "source": [
    "mms = MinMaxScaler()"
   ]
  },
  {
   "cell_type": "code",
   "execution_count": 17,
   "id": "178808a1",
   "metadata": {},
   "outputs": [],
   "source": [
    "targ_cols = ['f0', 'f1', 'f2', 'f3', 'f4', 'f5', 'f6', 'f7', 'f8', 'f9', 'f10',\n",
    "       'f11']"
   ]
  },
  {
   "cell_type": "code",
   "execution_count": 18,
   "id": "59ce0be2",
   "metadata": {},
   "outputs": [
    {
     "name": "stderr",
     "output_type": "stream",
     "text": [
      "C:\\Users\\Dell 5480\\AppData\\Local\\Temp\\ipykernel_12136\\4094281010.py:1: SettingWithCopyWarning: \n",
      "A value is trying to be set on a copy of a slice from a DataFrame.\n",
      "Try using .loc[row_indexer,col_indexer] = value instead\n",
      "\n",
      "See the caveats in the documentation: https://pandas.pydata.org/pandas-docs/stable/user_guide/indexing.html#returning-a-view-versus-a-copy\n",
      "  df_small[targ_cols] = mms.fit_transform(df_small[targ_cols])\n"
     ]
    }
   ],
   "source": [
    "df_small[targ_cols] = mms.fit_transform(df_small[targ_cols])"
   ]
  },
  {
   "cell_type": "code",
   "execution_count": 19,
   "id": "559550bb",
   "metadata": {
    "scrolled": true
   },
   "outputs": [
    {
     "data": {
      "text/html": [
       "<div>\n",
       "<style scoped>\n",
       "    .dataframe tbody tr th:only-of-type {\n",
       "        vertical-align: middle;\n",
       "    }\n",
       "\n",
       "    .dataframe tbody tr th {\n",
       "        vertical-align: top;\n",
       "    }\n",
       "\n",
       "    .dataframe thead th {\n",
       "        text-align: right;\n",
       "    }\n",
       "</style>\n",
       "<table border=\"1\" class=\"dataframe\">\n",
       "  <thead>\n",
       "    <tr style=\"text-align: right;\">\n",
       "      <th></th>\n",
       "      <th>f0</th>\n",
       "      <th>f1</th>\n",
       "      <th>f2</th>\n",
       "      <th>f3</th>\n",
       "      <th>f4</th>\n",
       "      <th>f5</th>\n",
       "      <th>f6</th>\n",
       "      <th>f7</th>\n",
       "      <th>f8</th>\n",
       "      <th>f9</th>\n",
       "      <th>f10</th>\n",
       "      <th>f11</th>\n",
       "      <th>treatment</th>\n",
       "      <th>conversion</th>\n",
       "      <th>visit</th>\n",
       "      <th>exposure</th>\n",
       "      <th>class</th>\n",
       "    </tr>\n",
       "  </thead>\n",
       "  <tbody>\n",
       "    <tr>\n",
       "      <th>0</th>\n",
       "      <td>0.614704</td>\n",
       "      <td>0.0</td>\n",
       "      <td>0.959572</td>\n",
       "      <td>1.000000</td>\n",
       "      <td>0.0</td>\n",
       "      <td>1.0</td>\n",
       "      <td>0.462075</td>\n",
       "      <td>0.0</td>\n",
       "      <td>0.945451</td>\n",
       "      <td>0.0</td>\n",
       "      <td>0.0</td>\n",
       "      <td>1.0</td>\n",
       "      <td>1</td>\n",
       "      <td>0</td>\n",
       "      <td>0</td>\n",
       "      <td>0</td>\n",
       "      <td>Lost Cause</td>\n",
       "    </tr>\n",
       "    <tr>\n",
       "      <th>1</th>\n",
       "      <td>0.783474</td>\n",
       "      <td>0.0</td>\n",
       "      <td>0.785135</td>\n",
       "      <td>1.000000</td>\n",
       "      <td>0.0</td>\n",
       "      <td>1.0</td>\n",
       "      <td>0.825383</td>\n",
       "      <td>0.0</td>\n",
       "      <td>0.906748</td>\n",
       "      <td>0.0</td>\n",
       "      <td>0.0</td>\n",
       "      <td>1.0</td>\n",
       "      <td>0</td>\n",
       "      <td>0</td>\n",
       "      <td>0</td>\n",
       "      <td>0</td>\n",
       "      <td>Lost Cause</td>\n",
       "    </tr>\n",
       "    <tr>\n",
       "      <th>2</th>\n",
       "      <td>0.805757</td>\n",
       "      <td>0.0</td>\n",
       "      <td>0.000000</td>\n",
       "      <td>1.000000</td>\n",
       "      <td>0.0</td>\n",
       "      <td>1.0</td>\n",
       "      <td>0.586321</td>\n",
       "      <td>0.0</td>\n",
       "      <td>1.000000</td>\n",
       "      <td>0.0</td>\n",
       "      <td>0.0</td>\n",
       "      <td>1.0</td>\n",
       "      <td>1</td>\n",
       "      <td>0</td>\n",
       "      <td>0</td>\n",
       "      <td>0</td>\n",
       "      <td>Lost Cause</td>\n",
       "    </tr>\n",
       "    <tr>\n",
       "      <th>3</th>\n",
       "      <td>0.722708</td>\n",
       "      <td>0.0</td>\n",
       "      <td>0.918165</td>\n",
       "      <td>1.000000</td>\n",
       "      <td>0.0</td>\n",
       "      <td>1.0</td>\n",
       "      <td>0.729042</td>\n",
       "      <td>0.0</td>\n",
       "      <td>0.876728</td>\n",
       "      <td>0.0</td>\n",
       "      <td>0.0</td>\n",
       "      <td>1.0</td>\n",
       "      <td>1</td>\n",
       "      <td>0</td>\n",
       "      <td>0</td>\n",
       "      <td>0</td>\n",
       "      <td>Lost Cause</td>\n",
       "    </tr>\n",
       "    <tr>\n",
       "      <th>4</th>\n",
       "      <td>0.083270</td>\n",
       "      <td>0.0</td>\n",
       "      <td>0.000000</td>\n",
       "      <td>0.743299</td>\n",
       "      <td>0.0</td>\n",
       "      <td>1.0</td>\n",
       "      <td>0.779658</td>\n",
       "      <td>0.0</td>\n",
       "      <td>1.000000</td>\n",
       "      <td>0.0</td>\n",
       "      <td>0.0</td>\n",
       "      <td>1.0</td>\n",
       "      <td>1</td>\n",
       "      <td>0</td>\n",
       "      <td>0</td>\n",
       "      <td>0</td>\n",
       "      <td>Lost Cause</td>\n",
       "    </tr>\n",
       "  </tbody>\n",
       "</table>\n",
       "</div>"
      ],
      "text/plain": [
       "         f0   f1        f2        f3   f4   f5        f6   f7        f8   f9  \\\n",
       "0  0.614704  0.0  0.959572  1.000000  0.0  1.0  0.462075  0.0  0.945451  0.0   \n",
       "1  0.783474  0.0  0.785135  1.000000  0.0  1.0  0.825383  0.0  0.906748  0.0   \n",
       "2  0.805757  0.0  0.000000  1.000000  0.0  1.0  0.586321  0.0  1.000000  0.0   \n",
       "3  0.722708  0.0  0.918165  1.000000  0.0  1.0  0.729042  0.0  0.876728  0.0   \n",
       "4  0.083270  0.0  0.000000  0.743299  0.0  1.0  0.779658  0.0  1.000000  0.0   \n",
       "\n",
       "   f10  f11  treatment  conversion  visit  exposure       class  \n",
       "0  0.0  1.0          1           0      0         0  Lost Cause  \n",
       "1  0.0  1.0          0           0      0         0  Lost Cause  \n",
       "2  0.0  1.0          1           0      0         0  Lost Cause  \n",
       "3  0.0  1.0          1           0      0         0  Lost Cause  \n",
       "4  0.0  1.0          1           0      0         0  Lost Cause  "
      ]
     },
     "execution_count": 19,
     "metadata": {},
     "output_type": "execute_result"
    }
   ],
   "source": [
    "df_small.head()"
   ]
  },
  {
   "cell_type": "markdown",
   "id": "1a298062",
   "metadata": {},
   "source": [
    "The goal of this notebook is to predict class of a person using the features provided in the dataset"
   ]
  },
  {
   "cell_type": "code",
   "execution_count": 20,
   "id": "6fa41b5d",
   "metadata": {},
   "outputs": [
    {
     "data": {
      "text/plain": [
       "array(['Lost Cause', 'Persuadables', 'Sure Thing', 'Dont Disturb'],\n",
       "      dtype=object)"
      ]
     },
     "execution_count": 20,
     "metadata": {},
     "output_type": "execute_result"
    }
   ],
   "source": [
    "df_small['class'].unique()"
   ]
  },
  {
   "cell_type": "markdown",
   "id": "1edab7b2",
   "metadata": {},
   "source": [
    "I will use the LabelEncoder to encode these values"
   ]
  },
  {
   "cell_type": "code",
   "execution_count": 21,
   "id": "365152d4",
   "metadata": {},
   "outputs": [],
   "source": [
    "from sklearn.preprocessing import LabelEncoder"
   ]
  },
  {
   "cell_type": "code",
   "execution_count": 22,
   "id": "c6555938",
   "metadata": {},
   "outputs": [],
   "source": [
    "le = LabelEncoder()"
   ]
  },
  {
   "cell_type": "code",
   "execution_count": 23,
   "id": "7506c10d",
   "metadata": {},
   "outputs": [
    {
     "name": "stderr",
     "output_type": "stream",
     "text": [
      "C:\\Users\\Dell 5480\\AppData\\Local\\Temp\\ipykernel_12136\\2260084954.py:1: SettingWithCopyWarning: \n",
      "A value is trying to be set on a copy of a slice from a DataFrame.\n",
      "Try using .loc[row_indexer,col_indexer] = value instead\n",
      "\n",
      "See the caveats in the documentation: https://pandas.pydata.org/pandas-docs/stable/user_guide/indexing.html#returning-a-view-versus-a-copy\n",
      "  df_small['class'] = le.fit_transform(df_small['class'])\n"
     ]
    }
   ],
   "source": [
    "df_small['class'] = le.fit_transform(df_small['class'])"
   ]
  },
  {
   "cell_type": "code",
   "execution_count": 24,
   "id": "d59a45c6",
   "metadata": {},
   "outputs": [
    {
     "data": {
      "text/html": [
       "<div>\n",
       "<style scoped>\n",
       "    .dataframe tbody tr th:only-of-type {\n",
       "        vertical-align: middle;\n",
       "    }\n",
       "\n",
       "    .dataframe tbody tr th {\n",
       "        vertical-align: top;\n",
       "    }\n",
       "\n",
       "    .dataframe thead th {\n",
       "        text-align: right;\n",
       "    }\n",
       "</style>\n",
       "<table border=\"1\" class=\"dataframe\">\n",
       "  <thead>\n",
       "    <tr style=\"text-align: right;\">\n",
       "      <th></th>\n",
       "      <th>Label</th>\n",
       "      <th>Encoded Value</th>\n",
       "    </tr>\n",
       "  </thead>\n",
       "  <tbody>\n",
       "    <tr>\n",
       "      <th>0</th>\n",
       "      <td>Dont Disturb</td>\n",
       "      <td>0</td>\n",
       "    </tr>\n",
       "    <tr>\n",
       "      <th>1</th>\n",
       "      <td>Lost Cause</td>\n",
       "      <td>1</td>\n",
       "    </tr>\n",
       "    <tr>\n",
       "      <th>2</th>\n",
       "      <td>Persuadables</td>\n",
       "      <td>2</td>\n",
       "    </tr>\n",
       "    <tr>\n",
       "      <th>3</th>\n",
       "      <td>Sure Thing</td>\n",
       "      <td>3</td>\n",
       "    </tr>\n",
       "  </tbody>\n",
       "</table>\n",
       "</div>"
      ],
      "text/plain": [
       "          Label  Encoded Value\n",
       "0  Dont Disturb              0\n",
       "1    Lost Cause              1\n",
       "2  Persuadables              2\n",
       "3    Sure Thing              3"
      ]
     },
     "execution_count": 24,
     "metadata": {},
     "output_type": "execute_result"
    }
   ],
   "source": [
    "pd.DataFrame.from_records(list(zip(le.classes_,list(range(len(le.classes_))))), columns=['Label', 'Encoded Value'])"
   ]
  },
  {
   "cell_type": "markdown",
   "id": "75c40a09",
   "metadata": {},
   "source": [
    "### Spliting into training and testing samples"
   ]
  },
  {
   "cell_type": "code",
   "execution_count": 25,
   "id": "d431079e",
   "metadata": {},
   "outputs": [],
   "source": [
    "from sklearn.model_selection import train_test_split"
   ]
  },
  {
   "cell_type": "code",
   "execution_count": 26,
   "id": "862a7524",
   "metadata": {},
   "outputs": [],
   "source": [
    "X = df_small.drop('class',axis=1)\n",
    "y = df_small['class']"
   ]
  },
  {
   "cell_type": "code",
   "execution_count": 27,
   "id": "d93dada7",
   "metadata": {},
   "outputs": [],
   "source": [
    "X_train, X_test, y_train, y_test = train_test_split(X, y, test_size=0.3, random_state=42)"
   ]
  },
  {
   "cell_type": "markdown",
   "id": "62904cef",
   "metadata": {},
   "source": [
    "### Model Building"
   ]
  },
  {
   "cell_type": "markdown",
   "id": "efca78f1",
   "metadata": {},
   "source": [
    "The goal of creating this notebook is test my understanding of Artificial Neural Network. That being said, ANN is my first choice of model for this not book"
   ]
  },
  {
   "cell_type": "code",
   "execution_count": 28,
   "id": "c366a0ff",
   "metadata": {},
   "outputs": [],
   "source": [
    "import tensorflow as tf\n",
    "from tensorflow.keras.layers import Dense, Activation\n",
    "from tensorflow.keras.models import Sequential\n",
    "from tensorflow.keras.losses import sparse_categorical_crossentropy, categorical_crossentropy, binary_crossentropy\n",
    "from tensorflow.keras.optimizers import Adam"
   ]
  },
  {
   "cell_type": "code",
   "execution_count": 29,
   "id": "00283797",
   "metadata": {},
   "outputs": [],
   "source": [
    "model = Sequential(\n",
    "    [\n",
    "        Dense(units=16, input_shape=(16,), activation='relu'),\n",
    "        Dense(units=32, activation='relu'),\n",
    "        Dense(units=64, activation='relu'),\n",
    "        Dense(units=4, activation='softmax')\n",
    "    ]\n",
    ")"
   ]
  },
  {
   "cell_type": "code",
   "execution_count": 30,
   "id": "851118ef",
   "metadata": {},
   "outputs": [],
   "source": [
    "# After creating our model, it has to be compiled before it can be used\n",
    "model.compile(optimizer=Adam(learning_rate=0.0001), loss=sparse_categorical_crossentropy,metrics=['accuracy'])"
   ]
  },
  {
   "cell_type": "code",
   "execution_count": 31,
   "id": "c1a3bfe9",
   "metadata": {},
   "outputs": [
    {
     "name": "stdout",
     "output_type": "stream",
     "text": [
      "Epoch 1/20\n",
      "700/700 - 2s - loss: 0.4593 - accuracy: 0.9164 - 2s/epoch - 3ms/step\n",
      "Epoch 2/20\n",
      "700/700 - 1s - loss: 0.1870 - accuracy: 0.9471 - 1s/epoch - 2ms/step\n",
      "Epoch 3/20\n",
      "700/700 - 1s - loss: 0.1226 - accuracy: 0.9514 - 1s/epoch - 2ms/step\n",
      "Epoch 4/20\n",
      "700/700 - 1s - loss: 0.0821 - accuracy: 0.9743 - 1s/epoch - 2ms/step\n",
      "Epoch 5/20\n",
      "700/700 - 1s - loss: 0.0664 - accuracy: 0.9797 - 1s/epoch - 2ms/step\n",
      "Epoch 6/20\n",
      "700/700 - 1s - loss: 0.0593 - accuracy: 0.9800 - 1s/epoch - 2ms/step\n",
      "Epoch 7/20\n",
      "700/700 - 1s - loss: 0.0549 - accuracy: 0.9801 - 1s/epoch - 2ms/step\n",
      "Epoch 8/20\n",
      "700/700 - 1s - loss: 0.0516 - accuracy: 0.9803 - 1s/epoch - 2ms/step\n",
      "Epoch 9/20\n",
      "700/700 - 1s - loss: 0.0487 - accuracy: 0.9804 - 1s/epoch - 2ms/step\n",
      "Epoch 10/20\n",
      "700/700 - 1s - loss: 0.0458 - accuracy: 0.9807 - 1s/epoch - 2ms/step\n",
      "Epoch 11/20\n",
      "700/700 - 1s - loss: 0.0429 - accuracy: 0.9817 - 1s/epoch - 2ms/step\n",
      "Epoch 12/20\n",
      "700/700 - 1s - loss: 0.0404 - accuracy: 0.9820 - 1s/epoch - 2ms/step\n",
      "Epoch 13/20\n",
      "700/700 - 1s - loss: 0.0380 - accuracy: 0.9827 - 1s/epoch - 2ms/step\n",
      "Epoch 14/20\n",
      "700/700 - 1s - loss: 0.0357 - accuracy: 0.9841 - 1s/epoch - 2ms/step\n",
      "Epoch 15/20\n",
      "700/700 - 1s - loss: 0.0335 - accuracy: 0.9851 - 1s/epoch - 2ms/step\n",
      "Epoch 16/20\n",
      "700/700 - 1s - loss: 0.0315 - accuracy: 0.9869 - 1s/epoch - 2ms/step\n",
      "Epoch 17/20\n",
      "700/700 - 1s - loss: 0.0297 - accuracy: 0.9880 - 1s/epoch - 2ms/step\n",
      "Epoch 18/20\n",
      "700/700 - 1s - loss: 0.0279 - accuracy: 0.9884 - 1s/epoch - 2ms/step\n",
      "Epoch 19/20\n",
      "700/700 - 1s - loss: 0.0260 - accuracy: 0.9906 - 1s/epoch - 2ms/step\n",
      "Epoch 20/20\n",
      "700/700 - 1s - loss: 0.0249 - accuracy: 0.9913 - 1s/epoch - 2ms/step\n"
     ]
    },
    {
     "data": {
      "text/plain": [
       "<keras.callbacks.History at 0x2008f03cb80>"
      ]
     },
     "execution_count": 31,
     "metadata": {},
     "output_type": "execute_result"
    }
   ],
   "source": [
    "model.fit(x=X_train,y=y_train,batch_size=10, epochs=20,verbose=2)"
   ]
  },
  {
   "cell_type": "markdown",
   "id": "9e5f7b0d",
   "metadata": {},
   "source": [
    "### Testing model on a test set"
   ]
  },
  {
   "cell_type": "code",
   "execution_count": 32,
   "id": "29800d45",
   "metadata": {
    "scrolled": true
   },
   "outputs": [
    {
     "name": "stdout",
     "output_type": "stream",
     "text": [
      "94/94 [==============================] - 0s 1ms/step\n"
     ]
    }
   ],
   "source": [
    "pred = model.predict(x=X_test)"
   ]
  },
  {
   "cell_type": "code",
   "execution_count": 33,
   "id": "a86e19d0",
   "metadata": {
    "scrolled": true
   },
   "outputs": [
    {
     "data": {
      "text/plain": [
       "array([[1.2344176e-04, 9.9987257e-01, 4.0276227e-06, 2.6049557e-10],\n",
       "       [1.3656191e-04, 9.9986041e-01, 2.9689452e-06, 3.3669606e-10],\n",
       "       [8.2577162e-06, 9.9999177e-01, 9.3057528e-10, 2.5734686e-15],\n",
       "       ...,\n",
       "       [8.5660031e-06, 9.9999142e-01, 1.0040577e-09, 2.8998806e-15],\n",
       "       [3.5084074e-03, 9.9640876e-01, 8.2649698e-05, 6.6258274e-08],\n",
       "       [1.0349181e-04, 9.9989569e-01, 7.8950757e-07, 2.2812587e-10]],\n",
       "      dtype=float32)"
      ]
     },
     "execution_count": 33,
     "metadata": {},
     "output_type": "execute_result"
    }
   ],
   "source": [
    "pred"
   ]
  },
  {
   "cell_type": "markdown",
   "id": "dca19baa",
   "metadata": {},
   "source": [
    "I'm only intrested in the index of the value with highest probability"
   ]
  },
  {
   "cell_type": "code",
   "execution_count": 34,
   "id": "3465f38d",
   "metadata": {},
   "outputs": [],
   "source": [
    "pred = np.argmax(pred, axis=1)"
   ]
  },
  {
   "cell_type": "code",
   "execution_count": 35,
   "id": "4c24ea67",
   "metadata": {},
   "outputs": [],
   "source": [
    "from sklearn.metrics import accuracy_score, confusion_matrix"
   ]
  },
  {
   "cell_type": "code",
   "execution_count": 36,
   "id": "dd742b13",
   "metadata": {},
   "outputs": [],
   "source": [
    "import itertools"
   ]
  },
  {
   "cell_type": "code",
   "execution_count": 37,
   "id": "511998df",
   "metadata": {},
   "outputs": [],
   "source": [
    "# Function to plot confusion matrix. Copied from sklearn website\n",
    "def plot_confusion_matrix(cm, classes, normalize=False, title='confusion matrix', cmap=plt.cm.Blues):\n",
    "    \"\"\"\n",
    "    This function prints and plots the confusion matrix.\n",
    "    Normalization can be applied by setting `normalize=True`.\n",
    "    \"\"\"\n",
    "    plt.imshow(cm, interpolation='nearest', cmap=cmap)\n",
    "    plt.title(title)\n",
    "    plt.colorbar()\n",
    "    tick_marks = np.arange(len(classes))\n",
    "    plt.xticks(tick_marks, classes, rotation=45)\n",
    "    plt.yticks(tick_marks, classes)\n",
    "\n",
    "    if normalize:\n",
    "        cm = cm.astype('float') / cm.sum(axis=1)[:, np.newaxis]\n",
    "        print(\"Normalized confusion matrix\")\n",
    "    else:\n",
    "        print('Confusion matrix, without normalization')\n",
    "\n",
    "    print(cm)\n",
    "\n",
    "    thresh = cm.max() / 2.\n",
    "    for i, j in itertools.product(range(cm.shape[0]), range(cm.shape[1])):\n",
    "        plt.text(j, i, cm[i, j],\n",
    "            horizontalalignment=\"center\",\n",
    "            color=\"white\" if cm[i, j] > thresh else \"black\")\n",
    "\n",
    "    plt.tight_layout()\n",
    "    plt.ylabel('True label')\n",
    "    plt.xlabel('Predicted label')\n"
   ]
  },
  {
   "cell_type": "code",
   "execution_count": 38,
   "id": "ffd83639",
   "metadata": {},
   "outputs": [
    {
     "name": "stdout",
     "output_type": "stream",
     "text": [
      "Confusion matrix, without normalization\n",
      "[[  23   11    3    0]\n",
      " [   0 2838    1    0]\n",
      " [   0    0   90    4]\n",
      " [   0    0   12   18]]\n"
     ]
    },
    {
     "data": {
      "image/png": "[encoded data removed]",
      "text/plain": [
       "<Figure size 432x288 with 2 Axes>"
      ]
     },
     "metadata": {
      "needs_background": "light"
     },
     "output_type": "display_data"
    }
   ],
   "source": [
    "plot_confusion_matrix(confusion_matrix(y_test,pred),le.classes_)"
   ]
  },
  {
   "cell_type": "code",
   "execution_count": 39,
   "id": "85e1e281",
   "metadata": {
    "scrolled": true
   },
   "outputs": [
    {
     "data": {
      "text/plain": [
       "0.9896666666666667"
      ]
     },
     "execution_count": 39,
     "metadata": {},
     "output_type": "execute_result"
    }
   ],
   "source": [
    "accuracy_score(y_test,pred)"
   ]
  },
  {
   "cell_type": "code",
   "execution_count": null,
   "id": "17929d06",
   "metadata": {},
   "outputs": [],
   "source": []
  },
  {
   "cell_type": "markdown",
   "id": "9e5974f5",
   "metadata": {},
   "source": [
    "## Comparing outcome with some other models"
   ]
  },
  {
   "cell_type": "code",
   "execution_count": 45,
   "id": "2b4fd1d6",
   "metadata": {},
   "outputs": [],
   "source": [
    "def modellers(model,X=X,y=y):\n",
    "    X_train, X_test, y_train, y_test = train_test_split(X, y, test_size=0.3, random_state=42)\n",
    "    model.fit(X_train, y_train)\n",
    "    pred = model.predict(X_test)\n",
    "    return accuracy_score(y_test,pred)"
   ]
  },
  {
   "cell_type": "code",
   "execution_count": 42,
   "id": "26ee65a0",
   "metadata": {},
   "outputs": [],
   "source": [
    "from sklearn.linear_model import LogisticRegression\n",
    "from sklearn.ensemble import RandomForestClassifier\n",
    "from sklearn.svm import SVC"
   ]
  },
  {
   "cell_type": "code",
   "execution_count": 43,
   "id": "b3cb9d5a",
   "metadata": {},
   "outputs": [],
   "source": [
    "lgmod = LogisticRegression()\n",
    "rfc = RandomForestClassifier(n_estimators=100)\n",
    "svc = SVC()"
   ]
  },
  {
   "cell_type": "code",
   "execution_count": 46,
   "id": "a1d19ae9",
   "metadata": {},
   "outputs": [
    {
     "name": "stderr",
     "output_type": "stream",
     "text": [
      "C:\\Users\\Dell 5480\\anaconda3\\lib\\site-packages\\sklearn\\linear_model\\_logistic.py:814: ConvergenceWarning: lbfgs failed to converge (status=1):\n",
      "STOP: TOTAL NO. of ITERATIONS REACHED LIMIT.\n",
      "\n",
      "Increase the number of iterations (max_iter) or scale the data as shown in:\n",
      "    https://scikit-learn.org/stable/modules/preprocessing.html\n",
      "Please also refer to the documentation for alternative solver options:\n",
      "    https://scikit-learn.org/stable/modules/linear_model.html#logistic-regression\n",
      "  n_iter_i = _check_optimize_result(\n"
     ]
    },
    {
     "data": {
      "text/plain": [
       "0.9913333333333333"
      ]
     },
     "execution_count": 46,
     "metadata": {},
     "output_type": "execute_result"
    }
   ],
   "source": [
    "modellers(lgmod)"
   ]
  },
  {
   "cell_type": "code",
   "execution_count": 47,
   "id": "bc443df5",
   "metadata": {},
   "outputs": [
    {
     "data": {
      "text/plain": [
       "0.9973333333333333"
      ]
     },
     "execution_count": 47,
     "metadata": {},
     "output_type": "execute_result"
    }
   ],
   "source": [
    "modellers(rfc)"
   ]
  },
  {
   "cell_type": "code",
   "execution_count": 48,
   "id": "8c9cce49",
   "metadata": {},
   "outputs": [
    {
     "data": {
      "text/plain": [
       "0.99"
      ]
     },
     "execution_count": 48,
     "metadata": {},
     "output_type": "execute_result"
    }
   ],
   "source": [
    "modellers(svc)"
   ]
  }
 ],
 "metadata": {
  "kernelspec": {
   "display_name": "Python 3 (ipykernel)",
   "language": "python",
   "name": "python3"
  },
  "language_info": {
   "codemirror_mode": {
    "name": "ipython",
    "version": 3
   },
   "file_extension": ".py",
   "mimetype": "text/x-python",
   "name": "python",
   "nbconvert_exporter": "python",
   "pygments_lexer": "ipython3",
   "version": "3.9.12"
  }
 },
 "nbformat": 4,
 "nbformat_minor": 5
}
